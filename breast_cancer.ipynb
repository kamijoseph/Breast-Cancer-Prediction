{
 "cells": [
  {
   "cell_type": "markdown",
   "id": "99b3fdbd-3d0a-4afb-b807-5cd6551b5758",
   "metadata": {},
   "source": [
    "# Breast Cancer Prediction Mode"
   ]
  },
  {
   "cell_type": "code",
   "execution_count": 1,
   "id": "778eeb28-d3bc-49b6-ac35-18478a68aa09",
   "metadata": {},
   "outputs": [],
   "source": [
    "import numpy as np\n",
    "import pandas as pd"
   ]
  }
 ],
 "metadata": {
  "kernelspec": {
   "display_name": "Python (base)",
   "language": "python",
   "name": "base"
  },
  "language_info": {
   "codemirror_mode": {
    "name": "ipython",
    "version": 3
   },
   "file_extension": ".py",
   "mimetype": "text/x-python",
   "name": "python",
   "nbconvert_exporter": "python",
   "pygments_lexer": "ipython3",
   "version": "3.13.5"
  }
 },
 "nbformat": 4,
 "nbformat_minor": 5
}
